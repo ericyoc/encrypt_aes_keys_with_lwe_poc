{
  "nbformat": 4,
  "nbformat_minor": 0,
  "metadata": {
    "colab": {
      "provenance": [],
      "authorship_tag": "ABX9TyMLNGIbn6xoMK4c+WavOUqM",
      "include_colab_link": true
    },
    "kernelspec": {
      "name": "python3",
      "display_name": "Python 3"
    },
    "language_info": {
      "name": "python"
    }
  },
  "cells": [
    {
      "cell_type": "markdown",
      "metadata": {
        "id": "view-in-github",
        "colab_type": "text"
      },
      "source": [
        "<a href=\"https://colab.research.google.com/github/ericyoc/encrypt_aes_keys_with_lwe_poc/blob/main/encrypt_aes_keys_with_lwe_poc.ipynb\" target=\"_parent\"><img src=\"https://colab.research.google.com/assets/colab-badge.svg\" alt=\"Open In Colab\"/></a>"
      ]
    },
    {
      "cell_type": "markdown",
      "source": [
        "Demonstrates Multi-level Post Quantum Encryption for Images by implementing a multi-step process that combines traditional cryptographic techniques with post-quantum encryption methods.\n",
        "\n",
        "**Step 1:**  2D Discrete Wavelet Transform (DWT)\n",
        "Apply a 2D-DWT to the image. This transform decomposes the image into different frequency components, specifically into approximation (LL) and detail (LH, HL, HH) coefficients.\n",
        "\n",
        "Example of 2D DWT Decomposition\n",
        "Consider an image:\n",
        "\n",
        "Original Image: Contains both low and high-frequency information.\n",
        "LL Coefficients: Represent the basic, smoothed structure of the image.\n",
        "LH Coefficients: Highlight vertical features and edges.\n",
        "HL Coefficients: Highlight horizontal features and edges.\n",
        "HH Coefficients: Highlight diagonal features and textures.\n",
        "\n",
        "**Step 2:** AES Encryption\n",
        "The LL coefficients from the 2D-DWT are then encrypted using AES (Advanced Encryption Standard), a widely used symmetric encryption algorithm.\n",
        "\n",
        "**Step 3:** LWE Encryption\n",
        "The AES-encrypted coefficients are then further encrypted using the Learning with Errors (LWE) encryption scheme, a post-quantum cryptographic method that is believed to be secure against quantum attacks.\n",
        "\n",
        "The lwe_encrypt function takes the AES ciphertext and encrypts it using LWE parameters (a, s, and b). This demonstrates a second layer of encryption that is resilient to quantum computing threats.\n",
        "\n",
        "**Step 4:** Decryption Process\n",
        "To verify the encryption process, the code then decrypts the image step-by-step, reversing the encryption process:**\n",
        "\n",
        "LWE Decryption: Decrypt the AES ciphertext using LWE decryption.\n",
        "AES Decryption: Decrypt the LL coefficients using AES decryption.\n",
        "Inverse 2D-DWT: Reconstruct the image using inverse 2D-DWT with the decrypted LL coefficients and the original detail coefficients."
      ],
      "metadata": {
        "id": "0zS__eDsgcBJ"
      }
    },
    {
      "cell_type": "markdown",
      "source": [
        "This approach not only secures the image data but also prepares the encryption scheme for future threats posed by quantum computing. It reflects an advanced security model that combines traditional cryptographic techniques with emerging post-quantum methods to ensure robust protection against evolving threats."
      ],
      "metadata": {
        "id": "7JKDRJy4iteM"
      }
    },
    {
      "cell_type": "markdown",
      "source": [
        "Python code illustrates a multi-layered encryption approach:\n",
        "*   2D-DWT is used to decompose the image\n",
        "*   AES encrypts the LL coefficients\n",
        "*   LWE provides an additional layer of encryption for the AES ciphertext."
      ],
      "metadata": {
        "id": "3lT6Elgoi2fE"
      }
    },
    {
      "cell_type": "code",
      "source": [
        "#!pip install PyWavelets\n",
        "#!pip install pycryptodome\n",
        "#!pip install matplotlib\n",
        "#!pip install prettytable\n",
        "#!pip install scikit-image"
      ],
      "metadata": {
        "id": "MXQemxMDUpMg"
      },
      "execution_count": 1,
      "outputs": []
    },
    {
      "cell_type": "code",
      "source": [
        "import numpy as np\n",
        "import pywt\n",
        "from Crypto.Cipher import AES\n",
        "from Crypto.Random import get_random_bytes\n",
        "import matplotlib.pyplot as plt\n",
        "import matplotlib.image as mpimg\n",
        "import urllib.request\n",
        "import os\n",
        "from prettytable import PrettyTable\n",
        "from skimage.metrics import mean_squared_error"
      ],
      "metadata": {
        "id": "oYEn97RBeLfv"
      },
      "execution_count": 2,
      "outputs": []
    },
    {
      "cell_type": "markdown",
      "source": [
        "Implement 2D-DWT on an Image:\n",
        "\n",
        "The code performs a 2D Discrete Wavelet Transform (DWT) on the image using the dwt_2d function, which computes the wavelet coefficients."
      ],
      "metadata": {
        "id": "0TzJcGx6fWZG"
      }
    },
    {
      "cell_type": "code",
      "execution_count": 3,
      "metadata": {
        "id": "lDwAroS6UdzX"
      },
      "outputs": [],
      "source": [
        "# 2D-DWT function\n",
        "def dwt_2d(image):\n",
        "    coeffs = pywt.wavedec2(image, 'haar', level=1)\n",
        "    return coeffs"
      ]
    },
    {
      "cell_type": "code",
      "source": [
        "# Inverse 2D-DWT function\n",
        "def idwt_2d(coeffs):\n",
        "    image = pywt.waverec2(coeffs, 'haar')\n",
        "    return image"
      ],
      "metadata": {
        "id": "OgeHi7bdeRcT"
      },
      "execution_count": 4,
      "outputs": []
    },
    {
      "cell_type": "markdown",
      "source": [
        "Use LL Coefficients for AES Encryption:\n",
        "\n",
        "The code extracts the LL (approximation) coefficients from the 2D-DWT output and encrypts them using AES. This is done in the aes_encrypt function."
      ],
      "metadata": {
        "id": "q2-ssc9Ufigh"
      }
    },
    {
      "cell_type": "code",
      "source": [
        "# AES encryption function\n",
        "def aes_encrypt(data, key):\n",
        "    cipher = AES.new(key, AES.MODE_EAX)\n",
        "    ciphertext, tag = cipher.encrypt_and_digest(data)\n",
        "    return cipher.nonce, ciphertext, tag"
      ],
      "metadata": {
        "id": "_2afjXqXeV0H"
      },
      "execution_count": 5,
      "outputs": []
    },
    {
      "cell_type": "code",
      "source": [
        "# AES decryption function\n",
        "def aes_decrypt(nonce, ciphertext, tag, key):\n",
        "    cipher = AES.new(key, AES.MODE_EAX, nonce=nonce)\n",
        "    try:\n",
        "        data = cipher.decrypt_and_verify(ciphertext, tag)\n",
        "        return data\n",
        "    except ValueError:\n",
        "        print(\"MAC check failed. The ciphertext or key might be corrupted.\")\n",
        "        return None"
      ],
      "metadata": {
        "id": "23ALcukVeX6V"
      },
      "execution_count": 6,
      "outputs": []
    },
    {
      "cell_type": "markdown",
      "source": [
        "Encrypt AES Keys using Post-Quantum Learning with Errors (LWE) Encryption:\n",
        "\n",
        "The AES ciphertext is converted to integer format and encrypted using the LWE encryption scheme with the lwe_encrypt function."
      ],
      "metadata": {
        "id": "R-7waOnVfx2_"
      }
    },
    {
      "cell_type": "code",
      "source": [
        "# LWE encryption function\n",
        "def lwe_encrypt(ciphertext, n, q, sigma):\n",
        "    a = np.random.randint(0, q, size=(n,))\n",
        "    s = np.random.randint(0, q, size=(n,))\n",
        "    e = np.rint(np.random.normal(0, sigma, size=(n,))).astype(int)\n",
        "    b = (np.dot(a, s) + ciphertext) % q\n",
        "    return a, s, b"
      ],
      "metadata": {
        "id": "vGZTLUc1eaPp"
      },
      "execution_count": 7,
      "outputs": []
    },
    {
      "cell_type": "markdown",
      "source": [
        "Decrypt Using LWE and AES, and Perform Inverse 2D-DWT:\n",
        "\n",
        "The code decrypts the AES ciphertext using LWE decryption, then decrypts it using the AES key. Afterward, it reconstructs the image using inverse 2D-DWT with the idwt_2d function."
      ],
      "metadata": {
        "id": "HVr86DUxf2O_"
      }
    },
    {
      "cell_type": "code",
      "source": [
        "# LWE decryption function\n",
        "def lwe_decrypt(a, s, b, q):\n",
        "    decrypted_ciphertext = (b - np.dot(a, s)) % q\n",
        "    return decrypted_ciphertext.astype(np.uint8)"
      ],
      "metadata": {
        "id": "W7vdpnPoedIr"
      },
      "execution_count": 8,
      "outputs": []
    },
    {
      "cell_type": "code",
      "source": [
        "# Main function\n",
        "def main():\n",
        "    image_urls = {\n",
        "        (128, 128): \"https://via.placeholder.com/128\",\n",
        "        (256, 256): \"https://via.placeholder.com/256\",\n",
        "        (512, 512): \"https://via.placeholder.com/512\"\n",
        "    }\n",
        "\n",
        "    key_sizes = [128, 192, 256]\n",
        "    image_sizes = [(128, 128), (256, 256), (512, 512)]\n",
        "\n",
        "    plt.figure(figsize=(15, 10))\n",
        "\n",
        "    # Table to store results\n",
        "    table = PrettyTable()\n",
        "    table.field_names = [\"Technique\", \"Image Size\", \"Key Size\", \"Security Level\", \"MSE\", \"Analysis\"]\n",
        "\n",
        "    plot_count = 1\n",
        "    for img_size in image_sizes:\n",
        "        image_url = image_urls[img_size]\n",
        "        image_path = f\"sample_image_{img_size[0]}.jpg\"\n",
        "\n",
        "        # Download the image using urllib if not already downloaded\n",
        "        if not os.path.exists(image_path):\n",
        "            try:\n",
        "                urllib.request.urlretrieve(image_url, image_path)\n",
        "            except urllib.error.URLError as e:\n",
        "                print(f\"URL Error: {e.reason}\")\n",
        "                continue\n",
        "            except urllib.error.HTTPError as e:\n",
        "                print(f\"HTTP Error: {e.code} {e.reason}\")\n",
        "                continue\n",
        "\n",
        "        # Read the downloaded or local image\n",
        "        image = mpimg.imread(image_path)\n",
        "\n",
        "        # Convert the image to grayscale if needed\n",
        "        if len(image.shape) > 2:\n",
        "            image = np.dot(image[..., :3], [0.2989, 0.5870, 0.1140])\n",
        "\n",
        "        # Ensure the image has valid dimensions for 2D-DWT\n",
        "        size = (image.shape[0] // 2 * 2, image.shape[1] // 2 * 2)\n",
        "        image = image[:size[0], :size[1]]\n",
        "\n",
        "        # Display the original image\n",
        "        plt.subplot(len(image_sizes), len(key_sizes) + 1, plot_count)\n",
        "        plt.imshow(image, cmap='gray')\n",
        "        plt.title(f'Original Image\\n{img_size[0]}x{img_size[1]}')\n",
        "        plt.axis('off')\n",
        "        plot_count += 1\n",
        "\n",
        "        for key_size in key_sizes:\n",
        "            # 2D-DWT\n",
        "            coeffs = dwt_2d(image)\n",
        "\n",
        "            # AES encryption\n",
        "            key = get_random_bytes(key_size // 8)\n",
        "            nonce, ciphertext, tag = aes_encrypt(coeffs[0].tobytes(), key)\n",
        "\n",
        "            # LWE encryption of AES ciphertext\n",
        "            n = key_size\n",
        "            q = 2 ** (key_size // 8)\n",
        "            sigma = 3.2\n",
        "            ciphertext_int = np.frombuffer(ciphertext, dtype=np.uint8)\n",
        "            a, s, b = lwe_encrypt(ciphertext_int, n, q, sigma)\n",
        "\n",
        "            # LWE decryption of AES ciphertext\n",
        "            decrypted_ciphertext_int = lwe_decrypt(a, s, b, q)\n",
        "            decrypted_ciphertext = decrypted_ciphertext_int.tobytes()\n",
        "\n",
        "            # AES decryption\n",
        "            decrypted_coeffs = aes_decrypt(nonce, decrypted_ciphertext, tag, key)\n",
        "            if decrypted_coeffs is not None:\n",
        "                decrypted_coeffs = np.frombuffer(decrypted_coeffs, dtype=coeffs[0].dtype).reshape(coeffs[0].shape)\n",
        "\n",
        "                # Inverse 2D-DWT\n",
        "                decrypted_image = idwt_2d((decrypted_coeffs, coeffs[1]))\n",
        "\n",
        "                # Display the decrypted image\n",
        "                plt.subplot(len(image_sizes), len(key_sizes) + 1, plot_count)\n",
        "                plt.imshow(decrypted_image, cmap='gray')\n",
        "                plt.title(f'Decrypted\\n{key_size} bits')\n",
        "                plt.axis('off')\n",
        "                plot_count += 1\n",
        "\n",
        "                # Calculate MSE\n",
        "                mse = mean_squared_error(image, decrypted_image)\n",
        "\n",
        "                analysis = (f\"MSE: {mse:.4f}. The MSE quantifies the average squared difference between the \"\n",
        "                            f\"original and decrypted images. Lower MSE indicates higher similarity, confirming \"\n",
        "                            f\"successful decryption. Visual inspection also shows similarity.\")\n",
        "\n",
        "                table.add_row([\"2D-DWT\", f\"{img_size[0]}x{img_size[1]}\", \"N/A\", \"Low\", \"N/A\", \"2D-DWT is a transformation technique and doesn't produce a final image to compare.\"])\n",
        "                table.add_row([\"AES\", f\"{img_size[0]}x{img_size[1]}\", f\"{key_size} bits\", \"High\", \"N/A\", \"AES encrypts data but doesn't produce an image directly. Decryption process must be combined with inverse 2D-DWT.\"])\n",
        "                table.add_row([\"LWE\", f\"{img_size[0]}x{img_size[1]}\", f\"{key_size} bits\", \"Post-Quantum\", f\"{mse:.4f}\", analysis])\n",
        "            else:\n",
        "                print(f\"Decryption failed for AES Key Size: {key_size} bits\")\n",
        "\n",
        "    plt.tight_layout()\n",
        "    plt.show()\n",
        "\n",
        "    # Print results table\n",
        "    print(table)"
      ],
      "metadata": {
        "id": "nEtPcjjbefWe"
      },
      "execution_count": 9,
      "outputs": []
    },
    {
      "cell_type": "code",
      "source": [
        "if __name__ == '__main__':\n",
        "    main()"
      ],
      "metadata": {
        "colab": {
          "base_uri": "https://localhost:8080/",
          "height": 1000
        },
        "id": "s_ejNSy-eifa",
        "outputId": "c4b21233-2bd2-4edd-ef8d-ca64cbefb38d"
      },
      "execution_count": 10,
      "outputs": [
        {
          "output_type": "display_data",
          "data": {
            "text/plain": [
              "<Figure size 1500x1000 with 12 Axes>"
            ],
            "image/png": "[encoded data removed]"
          },
          "metadata": {}
        },
        {
          "output_type": "stream",
          "name": "stdout",
          "text": [
            "+-----------+------------+----------+----------------+--------+-----------------------------------------------------------------------------------------------------------------------------------------------------------------------------------------------------------------------------+\n",
            "| Technique | Image Size | Key Size | Security Level |  MSE   |                                                                                                           Analysis                                                                                                          |\n",
            "+-----------+------------+----------+----------------+--------+-----------------------------------------------------------------------------------------------------------------------------------------------------------------------------------------------------------------------------+\n",
            "|   2D-DWT  |  128x128   |   N/A    |      Low       |  N/A   |                                                                      2D-DWT is a transformation technique and doesn't produce a final image to compare.                                                                     |\n",
            "|    AES    |  128x128   | 128 bits |      High      |  N/A   |                                                      AES encrypts data but doesn't produce an image directly. Decryption process must be combined with inverse 2D-DWT.                                                      |\n",
            "|    LWE    |  128x128   | 128 bits |  Post-Quantum  | 0.0000 | MSE: 0.0000. The MSE quantifies the average squared difference between the original and decrypted images. Lower MSE indicates higher similarity, confirming successful decryption. Visual inspection also shows similarity. |\n",
            "|   2D-DWT  |  128x128   |   N/A    |      Low       |  N/A   |                                                                      2D-DWT is a transformation technique and doesn't produce a final image to compare.                                                                     |\n",
            "|    AES    |  128x128   | 192 bits |      High      |  N/A   |                                                      AES encrypts data but doesn't produce an image directly. Decryption process must be combined with inverse 2D-DWT.                                                      |\n",
            "|    LWE    |  128x128   | 192 bits |  Post-Quantum  | 0.0000 | MSE: 0.0000. The MSE quantifies the average squared difference between the original and decrypted images. Lower MSE indicates higher similarity, confirming successful decryption. Visual inspection also shows similarity. |\n",
            "|   2D-DWT  |  128x128   |   N/A    |      Low       |  N/A   |                                                                      2D-DWT is a transformation technique and doesn't produce a final image to compare.                                                                     |\n",
            "|    AES    |  128x128   | 256 bits |      High      |  N/A   |                                                      AES encrypts data but doesn't produce an image directly. Decryption process must be combined with inverse 2D-DWT.                                                      |\n",
            "|    LWE    |  128x128   | 256 bits |  Post-Quantum  | 0.0000 | MSE: 0.0000. The MSE quantifies the average squared difference between the original and decrypted images. Lower MSE indicates higher similarity, confirming successful decryption. Visual inspection also shows similarity. |\n",
            "|   2D-DWT  |  256x256   |   N/A    |      Low       |  N/A   |                                                                      2D-DWT is a transformation technique and doesn't produce a final image to compare.                                                                     |\n",
            "|    AES    |  256x256   | 128 bits |      High      |  N/A   |                                                      AES encrypts data but doesn't produce an image directly. Decryption process must be combined with inverse 2D-DWT.                                                      |\n",
            "|    LWE    |  256x256   | 128 bits |  Post-Quantum  | 0.0000 | MSE: 0.0000. The MSE quantifies the average squared difference between the original and decrypted images. Lower MSE indicates higher similarity, confirming successful decryption. Visual inspection also shows similarity. |\n",
            "|   2D-DWT  |  256x256   |   N/A    |      Low       |  N/A   |                                                                      2D-DWT is a transformation technique and doesn't produce a final image to compare.                                                                     |\n",
            "|    AES    |  256x256   | 192 bits |      High      |  N/A   |                                                      AES encrypts data but doesn't produce an image directly. Decryption process must be combined with inverse 2D-DWT.                                                      |\n",
            "|    LWE    |  256x256   | 192 bits |  Post-Quantum  | 0.0000 | MSE: 0.0000. The MSE quantifies the average squared difference between the original and decrypted images. Lower MSE indicates higher similarity, confirming successful decryption. Visual inspection also shows similarity. |\n",
            "|   2D-DWT  |  256x256   |   N/A    |      Low       |  N/A   |                                                                      2D-DWT is a transformation technique and doesn't produce a final image to compare.                                                                     |\n",
            "|    AES    |  256x256   | 256 bits |      High      |  N/A   |                                                      AES encrypts data but doesn't produce an image directly. Decryption process must be combined with inverse 2D-DWT.                                                      |\n",
            "|    LWE    |  256x256   | 256 bits |  Post-Quantum  | 0.0000 | MSE: 0.0000. The MSE quantifies the average squared difference between the original and decrypted images. Lower MSE indicates higher similarity, confirming successful decryption. Visual inspection also shows similarity. |\n",
            "|   2D-DWT  |  512x512   |   N/A    |      Low       |  N/A   |                                                                      2D-DWT is a transformation technique and doesn't produce a final image to compare.                                                                     |\n",
            "|    AES    |  512x512   | 128 bits |      High      |  N/A   |                                                      AES encrypts data but doesn't produce an image directly. Decryption process must be combined with inverse 2D-DWT.                                                      |\n",
            "|    LWE    |  512x512   | 128 bits |  Post-Quantum  | 0.0000 | MSE: 0.0000. The MSE quantifies the average squared difference between the original and decrypted images. Lower MSE indicates higher similarity, confirming successful decryption. Visual inspection also shows similarity. |\n",
            "|   2D-DWT  |  512x512   |   N/A    |      Low       |  N/A   |                                                                      2D-DWT is a transformation technique and doesn't produce a final image to compare.                                                                     |\n",
            "|    AES    |  512x512   | 192 bits |      High      |  N/A   |                                                      AES encrypts data but doesn't produce an image directly. Decryption process must be combined with inverse 2D-DWT.                                                      |\n",
            "|    LWE    |  512x512   | 192 bits |  Post-Quantum  | 0.0000 | MSE: 0.0000. The MSE quantifies the average squared difference between the original and decrypted images. Lower MSE indicates higher similarity, confirming successful decryption. Visual inspection also shows similarity. |\n",
            "|   2D-DWT  |  512x512   |   N/A    |      Low       |  N/A   |                                                                      2D-DWT is a transformation technique and doesn't produce a final image to compare.                                                                     |\n",
            "|    AES    |  512x512   | 256 bits |      High      |  N/A   |                                                      AES encrypts data but doesn't produce an image directly. Decryption process must be combined with inverse 2D-DWT.                                                      |\n",
            "|    LWE    |  512x512   | 256 bits |  Post-Quantum  | 0.0000 | MSE: 0.0000. The MSE quantifies the average squared difference between the original and decrypted images. Lower MSE indicates higher similarity, confirming successful decryption. Visual inspection also shows similarity. |\n",
            "+-----------+------------+----------+----------------+--------+-----------------------------------------------------------------------------------------------------------------------------------------------------------------------------------------------------------------------------+\n"
          ]
        }
      ]
    },
    {
      "cell_type": "markdown",
      "source": [
        "**Why Encrypt AES Keys with LWE?**\n",
        "\n",
        "**1. Future-Proof Security:**\n",
        "\n",
        "Quantum Resistance:\n",
        "\n",
        "Traditional cryptographic algorithms, such as AES, are vulnerable to attacks from quantum computers. Post-quantum cryptographic algorithms like LWE are designed to be secure against such quantum attacks.\n",
        "\n",
        "Usefulness:\n",
        "\n",
        "By encrypting AES keys with LWE, the system provides a layer of security that is resistant to potential future quantum computing threats. This future-proofing ensures that the encrypted data remains secure even if quantum computers become a practical threat.\n",
        "\n",
        "**2. Enhanced Security Model:**\n",
        "Layered Security:\n",
        "\n",
        "Encrypting the AES keys with LWE adds an additional security layer. Even if an attacker somehow gains access to the AES ciphertext, they would still need to break the LWE encryption to obtain the AES key and decrypt the data.\n",
        "\n",
        "Useful for High-Security Applications:\n",
        "\n",
        "This layered approach is particularly valuable for highly sensitive information where robust security is crucial. It offers a higher level of assurance against sophisticated attacks.\n",
        "\n",
        "**3. Research and Development:**\n",
        "\n",
        "Advancing Cryptographic Techniques:\n",
        "\n",
        "Implementing and exploring post-quantum encryption methods helps in understanding their practicality and performance. It contributes to ongoing research and development in cryptography."
      ],
      "metadata": {
        "id": "2f5yv2IhjVDH"
      }
    }
  ]
}